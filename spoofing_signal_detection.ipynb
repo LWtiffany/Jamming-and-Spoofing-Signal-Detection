{
 "cells": [
  {
   "cell_type": "code",
   "execution_count": 1,
   "id": "d1b52e80-19da-43c0-861b-cc2b4c11be2b",
   "metadata": {},
   "outputs": [],
   "source": [
    "import os\n",
    "import numpy as np\n",
    "from pathlib import Path\n",
    "from typing import Optional\n",
    "from multiprocessing import Pool\n",
    "import time\n",
    "import random"
   ]
  },
  {
   "cell_type": "code",
   "execution_count": 2,
   "id": "4a29dc9b-aa1a-4857-ae39-7624e8de2aba",
   "metadata": {},
   "outputs": [],
   "source": [
    "# ========= constants =========\n",
    "SAMPLE_RATE       = 25_000_000          # 25 Msps\n",
    "BYTES_PER_SAMPLE  = 4                   # int16 I + int16 Q\n",
    "FFT_SIZE          = 1024\n",
    "FFT_HOP           = 512\n",
    "LOWPASS_BW        = 5_000_000           # downsample to 5 MHz bandwidth\n",
    "CLIP_RANGE_DB     = 80                  # dynamic range (80 dB)"
   ]
  },
  {
   "cell_type": "code",
   "execution_count": 3,
   "id": "0581d319-1221-4070-a072-1a870385a2ed",
   "metadata": {},
   "outputs": [],
   "source": [
    "# ========= read IQ =========\n",
    "def read_texbat(path: str,\n",
    "                start_sec: float = 0,\n",
    "                duration_sec: Optional[float] = None,\n",
    "                mmap: bool = False) -> np.ndarray:\n",
    "    path       = Path(path)\n",
    "    start_samp = int(start_sec * SAMPLE_RATE)\n",
    "    byte_off   = start_samp * BYTES_PER_SAMPLE\n",
    "\n",
    "    if duration_sec is None:\n",
    "        count = -1                       # read to EOF\n",
    "    else:\n",
    "        n_samp = int(duration_sec * SAMPLE_RATE)\n",
    "        count  = n_samp * 2              # I and Q\n",
    "\n",
    "    if mmap:\n",
    "        data = np.memmap(path, dtype='<i2', mode='r',\n",
    "                         offset=byte_off, shape=(count if count>0 else None))\n",
    "    else:\n",
    "        with path.open('rb') as f:\n",
    "            f.seek(byte_off)\n",
    "            data = np.fromfile(f, dtype='<i2', count=count)\n",
    "\n",
    "    # normalize to [-1, 1] to prevent dB calculation overflow\n",
    "    iq = (data[0::2] + 1j * data[1::2]).astype(np.complex64) / 32768.0\n",
    "    return iq\n",
    "\n",
    "\n",
    "# ========= simple 2D average pooling =========\n",
    "def pool_spec(spec: np.ndarray,\n",
    "              pool_h: int = 4,\n",
    "              pool_w: int = 128) -> np.ndarray:\n",
    "    \"\"\"average pooling to smaller resolution. default: 10s window, 50k frames -> ~400 columns\"\"\"\n",
    "    h = spec.shape[0] - (spec.shape[0] % pool_h)\n",
    "    w = spec.shape[1] - (spec.shape[1] % pool_w)\n",
    "    spec = spec[:h, :w]\n",
    "    spec = spec.reshape(h // pool_h, pool_h, w).mean(1)\n",
    "    spec = spec.reshape(spec.shape[0], w // pool_w, pool_w).mean(2)\n",
    "    return spec\n",
    "\n",
    "\n",
    "# ========= main function: bin -> time-frequency image =========\n",
    "def dump_images(bin_path, out_dir, win_sec=10, hop_sec=2):\n",
    "    \"\"\"process single bin file\"\"\"\n",
    "    Path(out_dir).mkdir(parents=True, exist_ok=True)\n",
    "    print(f\"start processing: {bin_path}\")\n",
    "    start_time = time.time()\n",
    "\n",
    "    total_sec = Path(bin_path).stat().st_size / (BYTES_PER_SAMPLE * SAMPLE_RATE)\n",
    "    start, idx = 0.0, 0\n",
    "    while start + win_sec <= total_sec:\n",
    "        iq = read_texbat(bin_path, start_sec=start, duration_sec=win_sec)\n",
    "\n",
    "        # downsample to 5 Msps\n",
    "        iq = signal.decimate(iq, 5)\n",
    "        fs = SAMPLE_RATE // 5\n",
    "\n",
    "        f, t, Zxx = signal.stft(iq, fs=fs,\n",
    "                                window='hann',\n",
    "                                nperseg=FFT_SIZE,\n",
    "                                noverlap=FFT_HOP,\n",
    "                                return_onesided=False,\n",
    "                                boundary=None)\n",
    "\n",
    "\n",
    "        # only take ±2 MHz\n",
    "        band = np.where((f >= -2e6) & (f <= 2e6))[0]\n",
    "        spec = 20 * np.log10(np.abs(Zxx[band]) + 1e-12)   # add 1e-12 to prevent log(0)\n",
    "\n",
    "        # automatic dynamic range: take 99th percentile as vmax, then subtract 80 dB\n",
    "        vmax = np.percentile(spec, 99)\n",
    "        vmin = vmax - CLIP_RANGE_DB\n",
    "        spec = np.clip(spec, vmin, vmax)\n",
    "        spec = (spec - vmin) / (vmax - vmin)              # map to [0,1]\n",
    "\n",
    "        # after pooling, interpolate to 224×224, convenient for MobileNet\n",
    "        spec = pool_spec(spec, pool_h=4, pool_w=128)\n",
    "        spec = signal.resample(spec, 224, axis=0)         # frequency dimension\n",
    "        spec = signal.resample(spec, 224, axis=1)         # time dimension\n",
    "\n",
    "        plt.imsave(f'{out_dir}/{idx:06d}.png', spec, cmap='viridis')\n",
    "        start += hop_sec\n",
    "        idx   += 1\n",
    "    elapsed_time = time.time() - start_time\n",
    "    print(f\"completed processing: {bin_path}, time: {elapsed_time:.2f}s, total {idx} images\")"
   ]
  },
  {
   "cell_type": "code",
   "execution_count": 4,
   "id": "c0a6909e-db4b-41ab-8750-4343f4e43e13",
   "metadata": {},
   "outputs": [],
   "source": [
    "# ========= multiprocess processing =========\n",
    "def process_single_file(args):\n",
    "    \"\"\"wrapper function, for multiprocessing\"\"\"\n",
    "    bin_path, out_dir, win_sec, hop_sec = args\n",
    "    dump_images(bin_path, out_dir, win_sec, hop_sec)\n",
    "\n",
    "def dump_images_multiprocess(bin_files, base_out_dir, win_sec=10, hop_sec=2, n_processes=6):\n",
    "    \"\"\"multiprocess processing multiple bin files\n",
    "    \n",
    "    Parameters\n",
    "    ----------\n",
    "    bin_files : list\n",
    "        bin file path list\n",
    "    base_out_dir : str\n",
    "        output base directory\n",
    "    win_sec : float\n",
    "        window time length\n",
    "    hop_sec : float\n",
    "        hop time\n",
    "    n_processes : int\n",
    "        number of processes\n",
    "    \"\"\"\n",
    "    # prepare parameter list\n",
    "    tasks = []\n",
    "    for i, bin_path in enumerate(bin_files):\n",
    "        out_dir = f\"{base_out_dir}/{Path(bin_path).stem}\"\n",
    "        tasks.append((bin_path, out_dir, win_sec, hop_sec))\n",
    "    \n",
    "    print(f\"start multiprocessing {len(bin_files)} files, using {n_processes} processes\")\n",
    "    \n",
    "    # create process pool and execute\n",
    "    with Pool(processes=n_processes) as pool:\n",
    "        pool.map(process_single_file, tasks)\n",
    "    \n",
    "    print(\"all files processed!\")"
   ]
  },
  {
   "cell_type": "code",
   "execution_count": 5,
   "id": "0bc94c20-4119-4d34-a04a-6045a3cda37d",
   "metadata": {},
   "outputs": [],
   "source": [
    "# ============ step 1: data processing ============\n",
    "# if data is not processed, uncomment the following code\n",
    "# if __name__ == '__main__':\n",
    "#     print(\"start processing raw data...\")\n",
    "#     bin_files = [\n",
    "#         'H:/ds1.bin',\n",
    "#         'H:/ds2.bin', \n",
    "#         'H:/ds3.bin',\n",
    "#         'H:/ds4.bin',\n",
    "#         'H:/ds7.bin',\n",
    "#         'H:/cleanDynamic.bin'\n",
    "#     ]\n",
    "    \n",
    "#     dump_images_multiprocess(\n",
    "#         bin_files=bin_files,\n",
    "#         base_out_dir='H:/processed_data',\n",
    "#         win_sec=10,\n",
    "#         hop_sec=2,\n",
    "#         n_processes=2\n",
    "#     )\n",
    "#     print(\"data processing completed!\")"
   ]
  },
  {
   "cell_type": "code",
   "execution_count": 6,
   "id": "bd322df5-27d2-4a81-9c69-5541a698c8d7",
   "metadata": {},
   "outputs": [],
   "source": [
    "import torch\n",
    "from torch.utils.data import Dataset, DataLoader\n",
    "import torch.nn as nn\n",
    "import torch.optim as optim\n",
    "import torch.nn.functional as F\n",
    "import glob\n",
    "from sklearn.model_selection import train_test_split\n",
    "from sklearn.metrics import accuracy_score, confusion_matrix, classification_report"
   ]
  },
  {
   "cell_type": "code",
   "execution_count": 7,
   "id": "f6380017-82a5-4eab-b96e-0fc86eed330c",
   "metadata": {},
   "outputs": [],
   "source": [
    "# set random seed\n",
    "torch.manual_seed(42)\n",
    "np.random.seed(42)\n",
    "random.seed(42)"
   ]
  },
  {
   "cell_type": "code",
   "execution_count": 8,
   "id": "3a1933fa-7e70-4e46-83e2-2781e138a341",
   "metadata": {},
   "outputs": [],
   "source": [
    "# ========= dataset class =========\n",
    "class SpoofingDataset(Dataset):\n",
    "    \"\"\"signal spoofing detection dataset\"\"\"\n",
    "    def __init__(self, image_paths, labels, transform=None):\n",
    "        self.image_paths = image_paths\n",
    "        self.labels = labels\n",
    "        self.transform = transform\n",
    "    \n",
    "    def __len__(self):\n",
    "        return len(self.image_paths)\n",
    "    \n",
    "    def __getitem__(self, idx):\n",
    "        # load image (assume .npy or .png file)\n",
    "        if self.image_paths[idx].endswith('.png'):\n",
    "            import cv2\n",
    "            image = cv2.imread(self.image_paths[idx], cv2.IMREAD_GRAYSCALE)\n",
    "            image = image.astype(np.float32) / 255.0\n",
    "        else:\n",
    "            image = np.load(self.image_paths[idx]).astype(np.float32)\n",
    "        \n",
    "        # convert to tensor\n",
    "        image = torch.from_numpy(image).unsqueeze(0)  # add channel dimension\n",
    "        \n",
    "        if self.transform:\n",
    "            image = self.transform(image)\n",
    "        \n",
    "        return image, self.labels[idx]\n",
    "\n",
    "\n",
    "def prepare_dataset(data_dir, test_size=0.2, val_size=0.1):\n",
    "    \"\"\"\n",
    "    prepare training, validation and test datasets\n",
    "    \n",
    "    note: the first 100 seconds of each spoof signal file are real signals\n",
    "    - 100 seconds / hop_sec(2 seconds) = first 50 images are real signals\n",
    "    - from the 51st image onwards are spoof signals\n",
    "    \n",
    "    Args:\n",
    "        data_dir: root directory of processed data (contains subfolders of different categories)\n",
    "        test_size: test set ratio\n",
    "        val_size: validation set ratio\n",
    "    \n",
    "    Returns:\n",
    "        train_loader, val_loader, test_loader\n",
    "    \"\"\"\n",
    "    # collect all image paths and labels\n",
    "    image_paths = []\n",
    "    labels = []\n",
    "    \n",
    "    # data folder classification\n",
    "    real_signal_dirs = ['cleanDynamic']  # completely real signals\n",
    "    mixed_signal_dirs = ['ds1', 'ds2', 'ds3', 'ds4', 'ds7']  # first 100 seconds real, then spoof\n",
    "    \n",
    "    # number of images corresponding to the first 100 seconds (10 seconds per image, hop_sec=2, so first 50 images are real signals)\n",
    "    REAL_SIGNAL_THRESHOLD = 50  # first 50 images\n",
    "    \n",
    "    # load pure real signal folders\n",
    "    real_count = 0\n",
    "    for dirname in real_signal_dirs:\n",
    "        dir_path = os.path.join(data_dir, dirname)\n",
    "        if os.path.exists(dir_path):\n",
    "            png_files = sorted(glob.glob(os.path.join(dir_path, '*.png')))\n",
    "            image_paths.extend(png_files)\n",
    "            labels.extend([0] * len(png_files))  # 0 represents real signals\n",
    "            real_count += len(png_files)\n",
    "            print(f\"load pure real signal: {dirname}, total {len(png_files)} samples\")\n",
    "    \n",
    "    # load mixed signal folders (first 50 real, then spoof)\n",
    "    spoof_count = 0\n",
    "    for dirname in mixed_signal_dirs:\n",
    "        dir_path = os.path.join(data_dir, dirname)\n",
    "        if os.path.exists(dir_path):\n",
    "            png_files = sorted(glob.glob(os.path.join(dir_path, '*.png')))\n",
    "            \n",
    "            real_in_spoof = 0\n",
    "            spoof_in_spoof = 0\n",
    "            \n",
    "            for png_file in png_files:\n",
    "                # extract image index from filename (assume format is 000000.png, 000001.png, ...)\n",
    "                filename = os.path.basename(png_file)\n",
    "                try:\n",
    "                    img_index = int(filename.split('.')[0])\n",
    "                    \n",
    "                    image_paths.append(png_file)\n",
    "                    \n",
    "                    if img_index < REAL_SIGNAL_THRESHOLD:\n",
    "                        # first 50 images are real signals\n",
    "                        labels.append(0)\n",
    "                        real_in_spoof += 1\n",
    "                    else:\n",
    "                        # from the 51st image onwards are spoof signals\n",
    "                        labels.append(1)\n",
    "                        spoof_in_spoof += 1\n",
    "                        \n",
    "                except ValueError:\n",
    "                    # if filename format is not as expected, skip\n",
    "                    print(f\"warning: skip file with abnormal filename: {png_file}\")\n",
    "                    continue\n",
    "            \n",
    "            real_count += real_in_spoof\n",
    "            spoof_count += spoof_in_spoof\n",
    "            print(f\"load mixed signal: {dirname}, real signals: {real_in_spoof} samples, spoof signals: {spoof_in_spoof} samples\")\n",
    "    \n",
    "    print(f\"\\ndata label statistics:\")\n",
    "    print(f\"total {len(image_paths)} samples\")\n",
    "    print(f\"real signals: {real_count} samples ({labels.count(0)} samples)\")\n",
    "    print(f\"spoof signals: {spoof_count} samples ({labels.count(1)} samples)\")\n",
    "    \n",
    "    # check if label statistics is correct\n",
    "    if labels.count(0) != real_count or labels.count(1) != spoof_count:\n",
    "        print(\"warning: label statistics is inconsistent, please check data label logic\")\n",
    "    \n",
    "    if len(image_paths) == 0:\n",
    "        raise ValueError(\"no image files found, please check data directory path\")\n",
    "    \n",
    "    # data splitting\n",
    "    # first split training+validation and test\n",
    "    X_temp, X_test, y_temp, y_test = train_test_split(\n",
    "        image_paths, labels, test_size=test_size, random_state=42, stratify=labels\n",
    "    )\n",
    "    \n",
    "    # then split validation from training+validation\n",
    "    val_size_adj = val_size / (1 - test_size)  # adjust validation set ratio\n",
    "    X_train, X_val, y_train, y_val = train_test_split(\n",
    "        X_temp, y_temp, test_size=val_size_adj, random_state=42, stratify=y_temp\n",
    "    )\n",
    "    \n",
    "    print(f\"\\ndata set splitting:\")\n",
    "    print(f\"training set: {len(X_train)} samples\")\n",
    "    print(f\"validation set: {len(X_val)} samples\")\n",
    "    print(f\"test set: {len(X_test)} samples\")\n",
    "    \n",
    "    # create dataset and loaders\n",
    "    train_dataset = SpoofingDataset(X_train, y_train)\n",
    "    val_dataset = SpoofingDataset(X_val, y_val)\n",
    "    test_dataset = SpoofingDataset(X_test, y_test)\n",
    "    \n",
    "    train_loader = DataLoader(train_dataset, batch_size=32, shuffle=True, num_workers=0)\n",
    "    val_loader = DataLoader(val_dataset, batch_size=32, shuffle=False, num_workers=0)\n",
    "    test_loader = DataLoader(test_dataset, batch_size=32, shuffle=False, num_workers=0)\n",
    "    \n",
    "    return train_loader, val_loader, test_loader"
   ]
  },
  {
   "cell_type": "code",
   "execution_count": 9,
   "id": "7f670d2a-1e5d-407a-b7bf-871a6f91b888",
   "metadata": {},
   "outputs": [
    {
     "name": "stdout",
     "output_type": "stream",
     "text": [
      "prepare dataset...\n",
      "load pure real signal: cleanDynamic, total 217 samples\n",
      "load mixed signal: ds1, real signals: 50 samples, spoof signals: 176 samples\n",
      "load mixed signal: ds2, real signals: 50 samples, spoof signals: 174 samples\n",
      "load mixed signal: ds3, real signals: 50 samples, spoof signals: 174 samples\n",
      "load mixed signal: ds4, real signals: 50 samples, spoof signals: 175 samples\n",
      "load mixed signal: ds7, real signals: 50 samples, spoof signals: 181 samples\n",
      "\n",
      "data label statistics:\n",
      "total 1347 samples\n",
      "real signals: 467 samples (467 samples)\n",
      "spoof signals: 880 samples (880 samples)\n",
      "\n",
      "data set splitting:\n",
      "training set: 942 samples\n",
      "validation set: 135 samples\n",
      "test set: 270 samples\n"
     ]
    }
   ],
   "source": [
    "# ============ step 2: prepare dataset ============\n",
    "data_dir = 'G:/processed_data'  # processed data directory\n",
    "print(\"prepare dataset...\")\n",
    "train_loader, val_loader, test_loader = prepare_dataset(data_dir)"
   ]
  },
  {
   "cell_type": "code",
   "execution_count": 10,
   "id": "05fd1839-f84c-4e44-b99a-52be6f17160b",
   "metadata": {},
   "outputs": [],
   "source": [
    "from scipy import signal\n",
    "import matplotlib.pyplot as plt\n",
    "from tqdm import tqdm"
   ]
  },
  {
   "cell_type": "code",
   "execution_count": 11,
   "id": "ff2cddb5-35d9-4558-bd96-3f696194c7ea",
   "metadata": {},
   "outputs": [],
   "source": [
    "# ========= model definition =========\n",
    "class InvertedResidual(nn.Module):\n",
    "    \"\"\"inverted residual block\"\"\"\n",
    "    def __init__(self, inp, oup, stride, expand_ratio):\n",
    "        super(InvertedResidual, self).__init__()\n",
    "        self.stride = stride\n",
    "        assert stride in [1, 2]\n",
    "\n",
    "        hidden_dim = int(round(inp * expand_ratio))\n",
    "        self.use_res_connect = self.stride == 1 and inp == oup\n",
    "\n",
    "        layers = []\n",
    "        if expand_ratio != 1:\n",
    "            # pw (pointwise convolution expansion)\n",
    "            layers.extend([\n",
    "                nn.Conv2d(inp, hidden_dim, 1, 1, 0, bias=False),\n",
    "                nn.BatchNorm2d(hidden_dim),\n",
    "                nn.ReLU6(inplace=True),\n",
    "            ])\n",
    "        layers.extend([\n",
    "            # dw (depthwise convolution)\n",
    "            nn.Conv2d(hidden_dim, hidden_dim, 3, stride, 1, groups=hidden_dim, bias=False),\n",
    "            nn.BatchNorm2d(hidden_dim),\n",
    "            nn.ReLU6(inplace=True),\n",
    "            # pw-linear (pointwise convolution projection)\n",
    "            nn.Conv2d(hidden_dim, oup, 1, 1, 0, bias=False),\n",
    "            nn.BatchNorm2d(oup),\n",
    "        ])\n",
    "        self.conv = nn.Sequential(*layers)\n",
    "\n",
    "    def forward(self, x):\n",
    "        if self.use_res_connect:\n",
    "            return x + self.conv(x)\n",
    "        else:\n",
    "            return self.conv(x)\n",
    "\n",
    "\n",
    "class MobileNetV2(nn.Module):\n",
    "    \"\"\"\n",
    "    MobileNetV2 architecture, for signal spoofing detection\n",
    "    input: 224x224x1 time-frequency image\n",
    "    output: 2-class probabilities (real vs spoof)\n",
    "    \n",
    "    support freezing part of the layers to implement transfer learning\n",
    "    \"\"\"\n",
    "    def __init__(self, num_classes=2, width_mult=1.0, dropout=0.2, freeze_layers=None):\n",
    "        super(MobileNetV2, self).__init__()\n",
    "        \n",
    "        # set number of channels\n",
    "        input_channel = 32\n",
    "        last_channel = 1280\n",
    "        \n",
    "        # inverted residual block configuration: [expand_ratio, output_channel, num_blocks, stride]\n",
    "        inverted_residual_setting = [\n",
    "            [1, 16, 1, 1],   # t, c, n, s\n",
    "            [6, 24, 2, 2],   # 112x112\n",
    "            [6, 32, 3, 2],   # 56x56\n",
    "            [6, 64, 4, 2],   # 28x28\n",
    "            [6, 96, 3, 1],   # 28x28\n",
    "            [6, 160, 3, 2],  # 14x14\n",
    "            [6, 320, 1, 1],  # 14x14\n",
    "        ]\n",
    "\n",
    "        # adjust number of channels\n",
    "        input_channel = int(input_channel * width_mult)\n",
    "        self.last_channel = int(last_channel * max(1.0, width_mult))\n",
    "        \n",
    "        # first convolution layer (224x224x1 -> 112x112x32)\n",
    "        features = [\n",
    "            nn.Conv2d(1, input_channel, 3, stride=2, padding=1, bias=False),  # input is single-channel time-frequency image\n",
    "            nn.BatchNorm2d(input_channel),\n",
    "            nn.ReLU6(inplace=True)\n",
    "        ]\n",
    "        \n",
    "        # build inverted residual blocks\n",
    "        for t, c, n, s in inverted_residual_setting:\n",
    "            output_channel = int(c * width_mult)\n",
    "            for i in range(n):\n",
    "                stride = s if i == 0 else 1\n",
    "                features.append(InvertedResidual(input_channel, output_channel, stride, expand_ratio=t))\n",
    "                input_channel = output_channel\n",
    "        \n",
    "        # last convolution layer\n",
    "        features.append(\n",
    "            nn.Conv2d(input_channel, self.last_channel, 1, 1, 0, bias=False)\n",
    "        )\n",
    "        features.append(nn.BatchNorm2d(self.last_channel))\n",
    "        features.append(nn.ReLU6(inplace=True))\n",
    "        \n",
    "        # feature extractor\n",
    "        self.features = nn.Sequential(*features)\n",
    "        \n",
    "        # classifier\n",
    "        self.classifier = nn.Sequential(\n",
    "            nn.Dropout(dropout),\n",
    "            nn.Linear(self.last_channel, num_classes),\n",
    "        )\n",
    "        \n",
    "        # weight initialization\n",
    "        for m in self.modules():\n",
    "            if isinstance(m, nn.Conv2d):\n",
    "                nn.init.kaiming_normal_(m.weight, mode='fan_out')\n",
    "                if m.bias is not None:\n",
    "                    nn.init.zeros_(m.bias)\n",
    "            elif isinstance(m, nn.BatchNorm2d):\n",
    "                nn.init.ones_(m.weight)\n",
    "                nn.init.zeros_(m.bias)\n",
    "            elif isinstance(m, nn.Linear):\n",
    "                nn.init.normal_(m.weight, 0, 0.01)\n",
    "                nn.init.zeros_(m.bias)\n",
    "        \n",
    "        # apply layer freezing strategy\n",
    "        if freeze_layers is not None:\n",
    "            self.apply_freeze_strategy(freeze_layers)\n",
    "\n",
    "    def forward(self, x):\n",
    "        \"\"\"\n",
    "        forward propagation\n",
    "        Args:\n",
    "            x: input tensor (batch_size, 1, 224, 224)\n",
    "        Returns:\n",
    "            logits: classification output (batch_size, num_classes)\n",
    "        \"\"\"\n",
    "        # feature extraction\n",
    "        x = self.features(x)\n",
    "        # global average pooling\n",
    "        x = nn.functional.adaptive_avg_pool2d(x, (1, 1))\n",
    "        # flatten\n",
    "        x = torch.flatten(x, 1)\n",
    "        # classification\n",
    "        x = self.classifier(x)\n",
    "        return x\n",
    "    \n",
    "    def apply_freeze_strategy(self, freeze_strategy):\n",
    "        \"\"\"\n",
    "        apply freezing strategy\n",
    "        \n",
    "        Args:\n",
    "            freeze_strategy: freezing strategy, support:\n",
    "                - 'features': freeze all feature extraction layers, only train classifier\n",
    "                - 'early_features': freeze first 50% of feature layers\n",
    "                - 'backbone': freeze first 70% of feature layers  \n",
    "                - int: freeze first N feature layers\n",
    "                - list: freeze specified layers [0, 1, 2, ...]\n",
    "        \"\"\"\n",
    "        print(f\"apply freezing strategy: {freeze_strategy}\")\n",
    "        \n",
    "        if freeze_strategy == 'features':\n",
    "            # freeze all feature extraction layers\n",
    "            self._freeze_module(self.features)\n",
    "            \n",
    "        elif freeze_strategy == 'early_features':\n",
    "            # freeze first 50% of feature layers\n",
    "            total_layers = len(self.features)\n",
    "            freeze_count = total_layers // 2\n",
    "            self._freeze_layers_by_count(freeze_count)\n",
    "            \n",
    "        elif freeze_strategy == 'backbone':\n",
    "            # freeze first 70% of feature layers\n",
    "            total_layers = len(self.features)\n",
    "            freeze_count = int(total_layers * 0.7)\n",
    "            self._freeze_layers_by_count(freeze_count)\n",
    "            \n",
    "        elif isinstance(freeze_strategy, int):\n",
    "            # freeze\n",
    "            self._freeze_layers_by_count(freeze_strategy)\n",
    "            \n",
    "        elif isinstance(freeze_strategy, list):\n",
    "            # freeze specified layers\n",
    "            self._freeze_layers_by_indices(freeze_strategy)\n",
    "            \n",
    "        # print trainable parameters statistics\n",
    "        self._print_trainable_params()\n",
    "    \n",
    "    def _freeze_module(self, module):\n",
    "        \"\"\"freeze entire module\"\"\"\n",
    "        for param in module.parameters():\n",
    "            param.requires_grad = False\n",
    "    \n",
    "    def _freeze_layers_by_count(self, freeze_count):\n",
    "        \"\"\"freeze first N layers\"\"\"\n",
    "        for i, layer in enumerate(self.features):\n",
    "            if i < freeze_count:\n",
    "                self._freeze_module(layer)\n",
    "    \n",
    "    def _freeze_layers_by_indices(self, indices):\n",
    "        \"\"\"freeze specified layers\"\"\"\n",
    "        for i in indices:\n",
    "            if i < len(self.features):\n",
    "                self._freeze_module(self.features[i])\n",
    "    \n",
    "    def _print_trainable_params(self):\n",
    "        \"\"\"print trainable parameters statistics\"\"\"\n",
    "        total_params = sum(p.numel() for p in self.parameters())\n",
    "        trainable_params = sum(p.numel() for p in self.parameters() if p.requires_grad)\n",
    "        frozen_params = total_params - trainable_params\n",
    "        \n",
    "        print(f\"📊 parameters statistics:\")\n",
    "        print(f\"    total parameters: {total_params:,}\")\n",
    "        print(f\"    trainable parameters: {trainable_params:,} ({100*trainable_params/total_params:.1f}%)\")\n",
    "        print(f\"    frozen parameters: {frozen_params:,} ({100*frozen_params/total_params:.1f}%)\")\n",
    "    \n",
    "    def unfreeze_all(self):\n",
    "        \"\"\"unfreeze all parameters\"\"\"\n",
    "        for param in self.parameters():\n",
    "            param.requires_grad = True\n",
    "        self._print_trainable_params()\n",
    "    \n",
    "    def freeze_features_gradually(self, epoch, total_epochs, strategy='linear'):\n",
    "        \"\"\"\n",
    "        progressive unfreezing strategy (optional for dynamic adjustment during training)\n",
    "        \n",
    "        Args:\n",
    "            epoch: current training epoch\n",
    "            total_epochs: total training epochs\n",
    "            strategy: unfreezing strategy ('linear', 'exponential')\n",
    "        \"\"\"\n",
    "        if strategy == 'linear':\n",
    "            # linear unfreezing: gradually unfreeze more layers as training progresses\n",
    "            unfreeze_ratio = epoch / total_epochs\n",
    "            total_layers = len(self.features)\n",
    "            unfreeze_count = int(total_layers * unfreeze_ratio)\n",
    "            \n",
    "            # freeze all, then unfreeze first N layers\n",
    "            self._freeze_module(self.features)\n",
    "            for i in range(unfreeze_count):\n",
    "                for param in self.features[i].parameters():\n",
    "                    param.requires_grad = True"
   ]
  },
  {
   "cell_type": "code",
   "execution_count": 12,
   "id": "014c3896-0c4c-45ef-a079-a7ae4f86b8c4",
   "metadata": {},
   "outputs": [],
   "source": [
    "# ============ training strategy selection ============\n",
    "# 1. fine-tuning - freeze backbone (recommended):\n",
    "#    - freeze_strategy = 'backbone'\n",
    "#    - lr = 0.00007, epochs = 20-30  \n",
    "   \n",
    "# 2. progressive fine-tuning - freeze early features:\n",
    "#    - freeze_strategy = 'early_features'\n",
    "#    - lr = 0.0001, epochs = 25-40\n",
    "   \n",
    "# 3. custom freeze:\n",
    "#    - freeze_strategy = 10 (freeze first 10 layers)\n",
    "#    - freeze_strategy = [0,1,2,3] (freeze specified layers)"
   ]
  },
  {
   "cell_type": "code",
   "execution_count": 13,
   "id": "105be4fe-25ff-496c-9a81-569cfb7e5b9e",
   "metadata": {},
   "outputs": [
    {
     "name": "stdout",
     "output_type": "stream",
     "text": [
      "apply freezing strategy: backbone\n",
      "📊 parameters statistics:\n",
      "    total parameters: 2,225,858\n",
      "    trainable parameters: 1,683,906 (75.7%)\n",
      "    frozen parameters: 541,952 (24.3%)\n",
      "use freeze strategy: backbone\n",
      "learning rate: 7e-05 (suitable for frozen layer training)\n",
      "training epochs: 20 (suitable for fine-tuning)\n"
     ]
    }
   ],
   "source": [
    "# ============ step 3: initialize model ============\n",
    "freeze_strategy = 'backbone'\n",
    "\n",
    "model = MobileNetV2(\n",
    "    num_classes=2, \n",
    "    width_mult=1.0, \n",
    "    dropout=0.2,\n",
    "    freeze_layers=freeze_strategy\n",
    ")\n",
    "\n",
    "print(f\"use freeze strategy: {freeze_strategy}\")\n",
    "print(f\"learning rate: {0.00007} (suitable for frozen layer training)\")\n",
    "print(f\"training epochs: {20} (suitable for fine-tuning)\")"
   ]
  },
  {
   "cell_type": "code",
   "execution_count": 14,
   "id": "4054e5c9-cd3e-46c9-969d-2eba834310a3",
   "metadata": {},
   "outputs": [],
   "source": [
    "def train_model(model, train_loader, val_loader, num_epochs=20, lr=0.00007, device='cuda'):\n",
    "    \"\"\"\n",
    "    train model\n",
    "    \n",
    "    Args:\n",
    "        model: MobileNetV2 model\n",
    "        train_loader: training data loader\n",
    "        val_loader: validation data loader\n",
    "        num_epochs: training epochs\n",
    "        lr: learning rate\n",
    "        device: device ('cuda' or 'cpu')\n",
    "    \n",
    "    Returns:\n",
    "        trained_model, train_losses, val_losses, val_accuracies\n",
    "    \"\"\"\n",
    "    model.to(device)\n",
    "    \n",
    "    # define loss function and optimizer\n",
    "    criterion = nn.CrossEntropyLoss()\n",
    "    optimizer = optim.Adam(model.parameters(), lr=lr, weight_decay=1e-4)\n",
    "    scheduler = optim.lr_scheduler.ReduceLROnPlateau(optimizer, mode='max', factor=0.5, patience=5)\n",
    "    \n",
    "    # record training process\n",
    "    train_losses = []\n",
    "    val_losses = []\n",
    "    val_accuracies = []\n",
    "    best_val_acc = 0.0\n",
    "    \n",
    "    print(f\"\\nstart training, using device: {device}\")\n",
    "    print(f\"training epochs: {num_epochs}, learning rate: {lr}\")\n",
    "    \n",
    "    for epoch in range(num_epochs):\n",
    "        # ============ training phase ============\n",
    "        model.train()\n",
    "        train_loss = 0.0\n",
    "        train_correct = 0\n",
    "        train_total = 0\n",
    "        \n",
    "        train_pbar = tqdm(train_loader, desc=f'Epoch {epoch+1}/{num_epochs} [training]')\n",
    "        for batch_idx, (data, target) in enumerate(train_pbar):\n",
    "            data, target = data.to(device), target.to(device)\n",
    "            \n",
    "            optimizer.zero_grad()\n",
    "            output = model(data)\n",
    "            loss = criterion(output, target)\n",
    "            loss.backward()\n",
    "            optimizer.step()\n",
    "            \n",
    "            train_loss += loss.item()\n",
    "            _, predicted = torch.max(output.data, 1)\n",
    "            train_total += target.size(0)\n",
    "            train_correct += (predicted == target).sum().item()\n",
    "            \n",
    "            # update progress bar\n",
    "            train_pbar.set_postfix({\n",
    "                'Loss': f'{loss.item():.4f}',\n",
    "                'Acc': f'{100.*train_correct/train_total:.2f}%'\n",
    "            })\n",
    "        \n",
    "        avg_train_loss = train_loss / len(train_loader)\n",
    "        train_acc = 100. * train_correct / train_total\n",
    "        \n",
    "        # ============ validation phase ============\n",
    "        model.eval()\n",
    "        val_loss = 0.0\n",
    "        val_correct = 0\n",
    "        val_total = 0\n",
    "        \n",
    "        with torch.no_grad():\n",
    "            val_pbar = tqdm(val_loader, desc=f'Epoch {epoch+1}/{num_epochs} [validation]')\n",
    "            for data, target in val_pbar:\n",
    "                data, target = data.to(device), target.to(device)\n",
    "                output = model(data)\n",
    "                loss = criterion(output, target)\n",
    "                \n",
    "                val_loss += loss.item()\n",
    "                _, predicted = torch.max(output.data, 1)\n",
    "                val_total += target.size(0)\n",
    "                val_correct += (predicted == target).sum().item()\n",
    "                \n",
    "                val_pbar.set_postfix({\n",
    "                    'Loss': f'{loss.item():.4f}',\n",
    "                    'Acc': f'{100.*val_correct/val_total:.2f}%'\n",
    "                })\n",
    "        \n",
    "        avg_val_loss = val_loss / len(val_loader)\n",
    "        val_acc = 100. * val_correct / val_total\n",
    "        \n",
    "        # record history\n",
    "        train_losses.append(avg_train_loss)\n",
    "        val_losses.append(avg_val_loss)\n",
    "        val_accuracies.append(val_acc)\n",
    "        \n",
    "        # learning rate scheduling\n",
    "        scheduler.step(val_acc)\n",
    "        \n",
    "        # save best model\n",
    "        if val_acc > best_val_acc:\n",
    "            best_val_acc = val_acc\n",
    "            torch.save(model.state_dict(), 'best_model.pth')\n",
    "            print(f\"★ save best model, validation accuracy: {val_acc:.2f}%\")\n",
    "        \n",
    "        # print epoch results\n",
    "        print(f'Epoch {epoch+1}/{num_epochs}:')\n",
    "        print(f'  training - Loss: {avg_train_loss:.4f}, Acc: {train_acc:.2f}%')\n",
    "        print(f'  validation - Loss: {avg_val_loss:.4f}, Acc: {val_acc:.2f}%')\n",
    "        print(f'  learning rate: {optimizer.param_groups[0][\"lr\"]:.6f}')\n",
    "        print('-' * 50)\n",
    "    \n",
    "    return model, train_losses, val_losses, val_accuracies\n",
    "\n",
    "\n",
    "def test_model(model, test_loader, device='cuda'):\n",
    "    \"\"\"\n",
    "    test model performance\n",
    "    \n",
    "    Args:\n",
    "        model: trained model\n",
    "        test_loader: test data loader\n",
    "        device: device\n",
    "    \n",
    "    Returns:\n",
    "        accuracy, predictions, true_labels\n",
    "    \"\"\"\n",
    "    model.to(device)\n",
    "    model.eval()\n",
    "    \n",
    "    all_predictions = []\n",
    "    all_labels = []\n",
    "    \n",
    "    print(\"\\nstart testing model...\")\n",
    "    \n",
    "    with torch.no_grad():\n",
    "        test_pbar = tqdm(test_loader, desc='testing progress')\n",
    "        for data, target in test_pbar:\n",
    "            data, target = data.to(device), target.to(device)\n",
    "            output = model(data)\n",
    "            _, predicted = torch.max(output.data, 1)\n",
    "            \n",
    "            all_predictions.extend(predicted.cpu().numpy())\n",
    "            all_labels.extend(target.cpu().numpy())\n",
    "    \n",
    "    # calculate accuracy\n",
    "    accuracy = accuracy_score(all_labels, all_predictions)\n",
    "    \n",
    "    # generate detailed report\n",
    "    print(f\"\\n{'='*50}\")\n",
    "    print(f\"testing results\")\n",
    "    print(f\"{'='*50}\")\n",
    "    print(f\"testing accuracy: {accuracy:.4f} ({accuracy*100:.2f}%)\")\n",
    "    \n",
    "    # confusion matrix\n",
    "    cm = confusion_matrix(all_labels, all_predictions)\n",
    "    print(f\"\\nconfusion matrix:\")\n",
    "    print(f\"{'':>12} {'real signal':>8} {'spoof signal':>8}\")\n",
    "    print(f\"{'real signal':>12} {cm[0,0]:>8} {cm[0,1]:>8}\")\n",
    "    print(f\"{'spoof signal':>12} {cm[1,0]:>8} {cm[1,1]:>8}\")\n",
    "    \n",
    "    # classification report\n",
    "    print(f\"\\ndetailed classification report:\")\n",
    "    target_names = ['real signal', 'spoof signal']\n",
    "    print(classification_report(all_labels, all_predictions, target_names=target_names))\n",
    "    \n",
    "    return accuracy, all_predictions, all_labels\n",
    "\n",
    "\n",
    "def plot_training_history(train_losses, val_losses, val_accuracies):\n",
    "    \"\"\"plot training history\"\"\"\n",
    "    # Create the figure and axes\n",
    "    fig, (ax1, ax2) = plt.subplots(1, 2, figsize=(15, 5))\n",
    "    \n",
    "    # Loss curve\n",
    "    ax1.plot(train_losses, label='Training loss', color='blue')\n",
    "    ax1.plot(val_losses, label='Validation loss', color='red')\n",
    "    ax1.set_title('Training and Validation Loss')\n",
    "    ax1.set_xlabel('Epoch')\n",
    "    ax1.set_ylabel('Loss')\n",
    "    ax1.legend()\n",
    "    ax1.grid(True)\n",
    "    \n",
    "    # Accuracy curve\n",
    "    ax2.plot(val_accuracies, label='Validation Accuracy', color='green')\n",
    "    ax2.set_title('Validation Accuracy')\n",
    "    ax2.set_xlabel('Epoch')\n",
    "    ax2.set_ylabel('Accuracy (%)')\n",
    "    ax2.legend()\n",
    "    ax2.grid(True)\n",
    "    \n",
    "    # Adjust layout to prevent overlap\n",
    "    plt.tight_layout()\n",
    "    \n",
    "    # Save the plot to a file\n",
    "    plt.savefig('training_history.png', dpi=300, bbox_inches='tight')\n",
    "    \n",
    "    # Display the plot inline in Jupyter notebook\n",
    "    plt.show()\n"
   ]
  },
  {
   "cell_type": "code",
   "execution_count": 15,
   "id": "a21b2525-16d1-4e19-b190-8eeccfbb3987",
   "metadata": {},
   "outputs": [
    {
     "name": "stdout",
     "output_type": "stream",
     "text": [
      "using device: cuda\n"
     ]
    }
   ],
   "source": [
    "# set device\n",
    "device = torch.device('cuda' if torch.cuda.is_available() else 'cpu')\n",
    "print(f\"using device: {device}\")"
   ]
  },
  {
   "cell_type": "code",
   "execution_count": 16,
   "id": "ff683620-a955-45d0-9623-c5d96b6fc23b",
   "metadata": {},
   "outputs": [
    {
     "name": "stdout",
     "output_type": "stream",
     "text": [
      "start training...\n",
      "\n",
      "start training, using device: cuda\n",
      "training epochs: 20, learning rate: 7e-05\n"
     ]
    },
    {
     "name": "stderr",
     "output_type": "stream",
     "text": [
      "Epoch 1/20 [training]: 100%|███████████████| 30/30 [00:03<00:00,  9.74it/s, Loss=0.5008, Acc=64.23%]\n",
      "Epoch 1/20 [validation]: 100%|███████████████| 5/5 [00:00<00:00, 12.65it/s, Loss=0.8760, Acc=65.19%]\n"
     ]
    },
    {
     "name": "stdout",
     "output_type": "stream",
     "text": [
      "★ save best model, validation accuracy: 65.19%\n",
      "Epoch 1/20:\n",
      "  training - Loss: 0.6131, Acc: 64.23%\n",
      "  validation - Loss: 0.6931, Acc: 65.19%\n",
      "  learning rate: 0.000070\n",
      "--------------------------------------------------\n"
     ]
    },
    {
     "name": "stderr",
     "output_type": "stream",
     "text": [
      "Epoch 2/20 [training]: 100%|███████████████| 30/30 [00:02<00:00, 12.79it/s, Loss=0.1706, Acc=82.17%]\n",
      "Epoch 2/20 [validation]: 100%|███████████████| 5/5 [00:00<00:00, 16.51it/s, Loss=1.3796, Acc=65.19%]\n"
     ]
    },
    {
     "name": "stdout",
     "output_type": "stream",
     "text": [
      "Epoch 2/20:\n",
      "  training - Loss: 0.3917, Acc: 82.17%\n",
      "  validation - Loss: 0.9551, Acc: 65.19%\n",
      "  learning rate: 0.000070\n",
      "--------------------------------------------------\n"
     ]
    },
    {
     "name": "stderr",
     "output_type": "stream",
     "text": [
      "Epoch 3/20 [training]: 100%|███████████████| 30/30 [00:02<00:00, 12.37it/s, Loss=0.2406, Acc=89.81%]\n",
      "Epoch 3/20 [validation]: 100%|███████████████| 5/5 [00:00<00:00, 17.66it/s, Loss=0.6459, Acc=77.78%]\n"
     ]
    },
    {
     "name": "stdout",
     "output_type": "stream",
     "text": [
      "★ save best model, validation accuracy: 77.78%\n",
      "Epoch 3/20:\n",
      "  training - Loss: 0.2673, Acc: 89.81%\n",
      "  validation - Loss: 0.4304, Acc: 77.78%\n",
      "  learning rate: 0.000070\n",
      "--------------------------------------------------\n"
     ]
    },
    {
     "name": "stderr",
     "output_type": "stream",
     "text": [
      "Epoch 4/20 [training]: 100%|███████████████| 30/30 [00:02<00:00, 12.99it/s, Loss=0.3740, Acc=91.40%]\n",
      "Epoch 4/20 [validation]: 100%|███████████████| 5/5 [00:00<00:00, 16.14it/s, Loss=0.3241, Acc=89.63%]\n"
     ]
    },
    {
     "name": "stdout",
     "output_type": "stream",
     "text": [
      "★ save best model, validation accuracy: 89.63%\n",
      "Epoch 4/20:\n",
      "  training - Loss: 0.2239, Acc: 91.40%\n",
      "  validation - Loss: 0.2565, Acc: 89.63%\n",
      "  learning rate: 0.000070\n",
      "--------------------------------------------------\n"
     ]
    },
    {
     "name": "stderr",
     "output_type": "stream",
     "text": [
      "Epoch 5/20 [training]: 100%|███████████████| 30/30 [00:02<00:00, 13.56it/s, Loss=0.2212, Acc=93.63%]\n",
      "Epoch 5/20 [validation]: 100%|███████████████| 5/5 [00:00<00:00, 14.59it/s, Loss=0.4467, Acc=90.37%]\n"
     ]
    },
    {
     "name": "stdout",
     "output_type": "stream",
     "text": [
      "★ save best model, validation accuracy: 90.37%\n",
      "Epoch 5/20:\n",
      "  training - Loss: 0.1807, Acc: 93.63%\n",
      "  validation - Loss: 0.2551, Acc: 90.37%\n",
      "  learning rate: 0.000070\n",
      "--------------------------------------------------\n"
     ]
    },
    {
     "name": "stderr",
     "output_type": "stream",
     "text": [
      "Epoch 6/20 [training]: 100%|███████████████| 30/30 [00:02<00:00, 12.14it/s, Loss=0.1923, Acc=94.37%]\n",
      "Epoch 6/20 [validation]: 100%|███████████████| 5/5 [00:00<00:00, 14.49it/s, Loss=0.2697, Acc=90.37%]\n"
     ]
    },
    {
     "name": "stdout",
     "output_type": "stream",
     "text": [
      "Epoch 6/20:\n",
      "  training - Loss: 0.1597, Acc: 94.37%\n",
      "  validation - Loss: 0.2418, Acc: 90.37%\n",
      "  learning rate: 0.000070\n",
      "--------------------------------------------------\n"
     ]
    },
    {
     "name": "stderr",
     "output_type": "stream",
     "text": [
      "Epoch 7/20 [training]: 100%|███████████████| 30/30 [00:02<00:00, 12.50it/s, Loss=0.1515, Acc=94.80%]\n",
      "Epoch 7/20 [validation]: 100%|███████████████| 5/5 [00:00<00:00, 16.46it/s, Loss=0.2588, Acc=90.37%]\n"
     ]
    },
    {
     "name": "stdout",
     "output_type": "stream",
     "text": [
      "Epoch 7/20:\n",
      "  training - Loss: 0.1434, Acc: 94.80%\n",
      "  validation - Loss: 0.2491, Acc: 90.37%\n",
      "  learning rate: 0.000070\n",
      "--------------------------------------------------\n"
     ]
    },
    {
     "name": "stderr",
     "output_type": "stream",
     "text": [
      "Epoch 8/20 [training]: 100%|███████████████| 30/30 [00:02<00:00, 12.98it/s, Loss=0.0326, Acc=96.60%]\n",
      "Epoch 8/20 [validation]: 100%|███████████████| 5/5 [00:00<00:00, 16.86it/s, Loss=0.4639, Acc=90.37%]\n"
     ]
    },
    {
     "name": "stdout",
     "output_type": "stream",
     "text": [
      "Epoch 8/20:\n",
      "  training - Loss: 0.1066, Acc: 96.60%\n",
      "  validation - Loss: 0.2352, Acc: 90.37%\n",
      "  learning rate: 0.000070\n",
      "--------------------------------------------------\n"
     ]
    },
    {
     "name": "stderr",
     "output_type": "stream",
     "text": [
      "Epoch 9/20 [training]: 100%|███████████████| 30/30 [00:02<00:00, 13.39it/s, Loss=0.4373, Acc=96.60%]\n",
      "Epoch 9/20 [validation]: 100%|███████████████| 5/5 [00:00<00:00, 19.20it/s, Loss=0.7042, Acc=89.63%]\n"
     ]
    },
    {
     "name": "stdout",
     "output_type": "stream",
     "text": [
      "Epoch 9/20:\n",
      "  training - Loss: 0.1066, Acc: 96.60%\n",
      "  validation - Loss: 0.3030, Acc: 89.63%\n",
      "  learning rate: 0.000070\n",
      "--------------------------------------------------\n"
     ]
    },
    {
     "name": "stderr",
     "output_type": "stream",
     "text": [
      "Epoch 10/20 [training]: 100%|██████████████| 30/30 [00:02<00:00, 13.72it/s, Loss=0.0320, Acc=98.30%]\n",
      "Epoch 10/20 [validation]: 100%|██████████████| 5/5 [00:00<00:00, 16.99it/s, Loss=0.2165, Acc=94.07%]\n"
     ]
    },
    {
     "name": "stdout",
     "output_type": "stream",
     "text": [
      "★ save best model, validation accuracy: 94.07%\n",
      "Epoch 10/20:\n",
      "  training - Loss: 0.0645, Acc: 98.30%\n",
      "  validation - Loss: 0.1880, Acc: 94.07%\n",
      "  learning rate: 0.000070\n",
      "--------------------------------------------------\n"
     ]
    },
    {
     "name": "stderr",
     "output_type": "stream",
     "text": [
      "Epoch 11/20 [training]: 100%|██████████████| 30/30 [00:02<00:00, 13.22it/s, Loss=0.0736, Acc=97.66%]\n",
      "Epoch 11/20 [validation]: 100%|██████████████| 5/5 [00:00<00:00, 14.51it/s, Loss=0.1527, Acc=91.85%]\n"
     ]
    },
    {
     "name": "stdout",
     "output_type": "stream",
     "text": [
      "Epoch 11/20:\n",
      "  training - Loss: 0.0744, Acc: 97.66%\n",
      "  validation - Loss: 0.2212, Acc: 91.85%\n",
      "  learning rate: 0.000070\n",
      "--------------------------------------------------\n"
     ]
    },
    {
     "name": "stderr",
     "output_type": "stream",
     "text": [
      "Epoch 12/20 [training]: 100%|██████████████| 30/30 [00:02<00:00, 11.95it/s, Loss=0.0179, Acc=98.41%]\n",
      "Epoch 12/20 [validation]: 100%|██████████████| 5/5 [00:00<00:00, 15.61it/s, Loss=0.2186, Acc=92.59%]\n"
     ]
    },
    {
     "name": "stdout",
     "output_type": "stream",
     "text": [
      "Epoch 12/20:\n",
      "  training - Loss: 0.0542, Acc: 98.41%\n",
      "  validation - Loss: 0.2251, Acc: 92.59%\n",
      "  learning rate: 0.000070\n",
      "--------------------------------------------------\n"
     ]
    },
    {
     "name": "stderr",
     "output_type": "stream",
     "text": [
      "Epoch 13/20 [training]: 100%|██████████████| 30/30 [00:02<00:00, 12.81it/s, Loss=0.3596, Acc=98.20%]\n",
      "Epoch 13/20 [validation]: 100%|██████████████| 5/5 [00:00<00:00, 17.33it/s, Loss=0.2242, Acc=94.07%]\n"
     ]
    },
    {
     "name": "stdout",
     "output_type": "stream",
     "text": [
      "Epoch 13/20:\n",
      "  training - Loss: 0.0580, Acc: 98.20%\n",
      "  validation - Loss: 0.1983, Acc: 94.07%\n",
      "  learning rate: 0.000070\n",
      "--------------------------------------------------\n"
     ]
    },
    {
     "name": "stderr",
     "output_type": "stream",
     "text": [
      "Epoch 14/20 [training]: 100%|██████████████| 30/30 [00:02<00:00, 13.13it/s, Loss=0.0174, Acc=98.73%]\n",
      "Epoch 14/20 [validation]: 100%|██████████████| 5/5 [00:00<00:00, 16.58it/s, Loss=0.1339, Acc=92.59%]\n"
     ]
    },
    {
     "name": "stdout",
     "output_type": "stream",
     "text": [
      "Epoch 14/20:\n",
      "  training - Loss: 0.0459, Acc: 98.73%\n",
      "  validation - Loss: 0.2019, Acc: 92.59%\n",
      "  learning rate: 0.000070\n",
      "--------------------------------------------------\n"
     ]
    },
    {
     "name": "stderr",
     "output_type": "stream",
     "text": [
      "Epoch 15/20 [training]: 100%|██████████████| 30/30 [00:02<00:00, 13.08it/s, Loss=0.0584, Acc=99.15%]\n",
      "Epoch 15/20 [validation]: 100%|██████████████| 5/5 [00:00<00:00, 14.61it/s, Loss=0.2179, Acc=94.07%]\n"
     ]
    },
    {
     "name": "stdout",
     "output_type": "stream",
     "text": [
      "Epoch 15/20:\n",
      "  training - Loss: 0.0437, Acc: 99.15%\n",
      "  validation - Loss: 0.1984, Acc: 94.07%\n",
      "  learning rate: 0.000070\n",
      "--------------------------------------------------\n"
     ]
    },
    {
     "name": "stderr",
     "output_type": "stream",
     "text": [
      "Epoch 16/20 [training]: 100%|██████████████| 30/30 [00:02<00:00, 14.10it/s, Loss=0.0220, Acc=99.26%]\n",
      "Epoch 16/20 [validation]: 100%|██████████████| 5/5 [00:00<00:00, 17.03it/s, Loss=0.5176, Acc=91.11%]\n"
     ]
    },
    {
     "name": "stdout",
     "output_type": "stream",
     "text": [
      "Epoch 16/20:\n",
      "  training - Loss: 0.0356, Acc: 99.26%\n",
      "  validation - Loss: 0.2649, Acc: 91.11%\n",
      "  learning rate: 0.000035\n",
      "--------------------------------------------------\n"
     ]
    },
    {
     "name": "stderr",
     "output_type": "stream",
     "text": [
      "Epoch 17/20 [training]: 100%|██████████████| 30/30 [00:02<00:00, 13.34it/s, Loss=0.0064, Acc=99.47%]\n",
      "Epoch 17/20 [validation]: 100%|██████████████| 5/5 [00:00<00:00, 16.36it/s, Loss=0.1673, Acc=93.33%]\n"
     ]
    },
    {
     "name": "stdout",
     "output_type": "stream",
     "text": [
      "Epoch 17/20:\n",
      "  training - Loss: 0.0278, Acc: 99.47%\n",
      "  validation - Loss: 0.2072, Acc: 93.33%\n",
      "  learning rate: 0.000035\n",
      "--------------------------------------------------\n"
     ]
    },
    {
     "name": "stderr",
     "output_type": "stream",
     "text": [
      "Epoch 18/20 [training]: 100%|██████████████| 30/30 [00:02<00:00, 11.83it/s, Loss=0.0228, Acc=99.47%]\n",
      "Epoch 18/20 [validation]: 100%|██████████████| 5/5 [00:00<00:00, 15.60it/s, Loss=0.2603, Acc=90.37%]\n"
     ]
    },
    {
     "name": "stdout",
     "output_type": "stream",
     "text": [
      "Epoch 18/20:\n",
      "  training - Loss: 0.0264, Acc: 99.47%\n",
      "  validation - Loss: 0.2512, Acc: 90.37%\n",
      "  learning rate: 0.000035\n",
      "--------------------------------------------------\n"
     ]
    },
    {
     "name": "stderr",
     "output_type": "stream",
     "text": [
      "Epoch 19/20 [training]: 100%|██████████████| 30/30 [00:02<00:00, 12.08it/s, Loss=0.0378, Acc=99.26%]\n",
      "Epoch 19/20 [validation]: 100%|██████████████| 5/5 [00:00<00:00, 15.57it/s, Loss=0.3153, Acc=92.59%]\n"
     ]
    },
    {
     "name": "stdout",
     "output_type": "stream",
     "text": [
      "Epoch 19/20:\n",
      "  training - Loss: 0.0283, Acc: 99.26%\n",
      "  validation - Loss: 0.1987, Acc: 92.59%\n",
      "  learning rate: 0.000035\n",
      "--------------------------------------------------\n"
     ]
    },
    {
     "name": "stderr",
     "output_type": "stream",
     "text": [
      "Epoch 20/20 [training]: 100%|██████████████| 30/30 [00:02<00:00, 14.33it/s, Loss=0.0087, Acc=99.36%]\n",
      "Epoch 20/20 [validation]: 100%|██████████████| 5/5 [00:00<00:00, 15.52it/s, Loss=0.1964, Acc=93.33%]\n"
     ]
    },
    {
     "name": "stdout",
     "output_type": "stream",
     "text": [
      "Epoch 20/20:\n",
      "  training - Loss: 0.0237, Acc: 99.36%\n",
      "  validation - Loss: 0.2013, Acc: 93.33%\n",
      "  learning rate: 0.000035\n",
      "--------------------------------------------------\n"
     ]
    }
   ],
   "source": [
    "# ============ step 4: train model ============\n",
    "print(\"start training...\")\n",
    "model, train_losses, val_losses, val_accuracies = train_model(\n",
    "    model=model,\n",
    "    train_loader=train_loader,\n",
    "    val_loader=val_loader,\n",
    "    num_epochs=20,\n",
    "    lr=0.00007,\n",
    "    device=device\n",
    ")"
   ]
  },
  {
   "cell_type": "code",
   "execution_count": 17,
   "id": "70ab1578-7039-430b-8636-ee7ab5eceae8",
   "metadata": {},
   "outputs": [
    {
     "name": "stdout",
     "output_type": "stream",
     "text": [
      "load best model for testing...\n",
      "\n",
      "start testing model...\n"
     ]
    },
    {
     "name": "stderr",
     "output_type": "stream",
     "text": [
      "testing progress: 100%|███████████████████████████████████████████████| 9/9 [00:00<00:00, 14.68it/s]"
     ]
    },
    {
     "name": "stdout",
     "output_type": "stream",
     "text": [
      "\n",
      "==================================================\n",
      "testing results\n",
      "==================================================\n",
      "testing accuracy: 0.9593 (95.93%)\n",
      "\n",
      "confusion matrix:\n",
      "             real signal spoof signal\n",
      " real signal       92        2\n",
      "spoof signal        9      167\n",
      "\n",
      "detailed classification report:\n",
      "              precision    recall  f1-score   support\n",
      "\n",
      " real signal       0.91      0.98      0.94        94\n",
      "spoof signal       0.99      0.95      0.97       176\n",
      "\n",
      "    accuracy                           0.96       270\n",
      "   macro avg       0.95      0.96      0.96       270\n",
      "weighted avg       0.96      0.96      0.96       270\n",
      "\n"
     ]
    },
    {
     "name": "stderr",
     "output_type": "stream",
     "text": [
      "\n"
     ]
    }
   ],
   "source": [
    "# ============ step 5: test model ============\n",
    "# load best model\n",
    "model.load_state_dict(torch.load('best_model.pth'))\n",
    "print(\"load best model for testing...\")\n",
    "\n",
    "accuracy, predictions, true_labels = test_model(model, test_loader, device)"
   ]
  },
  {
   "cell_type": "code",
   "execution_count": 18,
   "id": "4462fa49-e6c4-472c-8fd9-f310bc8767cf",
   "metadata": {},
   "outputs": [
    {
     "name": "stdout",
     "output_type": "stream",
     "text": [
      "generate training history graph...\n"
     ]
    },
    {
     "data": {
      "image/png": "[encoded data removed]",
      "text/plain": [
       "<Figure size 1500x500 with 2 Axes>"
      ]
     },
     "metadata": {},
     "output_type": "display_data"
    }
   ],
   "source": [
    "# ============ step 6: visualize results ============\n",
    "print(\"generate training history graph...\")\n",
    "plot_training_history(train_losses, val_losses, val_accuracies)"
   ]
  },
  {
   "cell_type": "code",
   "execution_count": 19,
   "id": "462eaec2-bfb4-4e6d-b2de-0b6831867f9d",
   "metadata": {},
   "outputs": [
    {
     "name": "stdout",
     "output_type": "stream",
     "text": [
      "\n",
      "============================================================\n",
      "training completed!\n",
      "============================================================\n",
      "final test accuracy: 0.9593 (95.93%)\n",
      "model saved as: best_model.pth\n",
      "training history graph saved as: training_history.png\n"
     ]
    }
   ],
   "source": [
    "# ============ summary ============\n",
    "print(f\"\\n{'='*60}\")\n",
    "print(f\"training completed!\")\n",
    "print(f\"{'='*60}\")\n",
    "print(f\"final test accuracy: {accuracy:.4f} ({accuracy*100:.2f}%)\")\n",
    "print(f\"model saved as: best_model.pth\")\n",
    "print(f\"training history graph saved as: training_history.png\")"
   ]
  },
  {
   "cell_type": "code",
   "execution_count": null,
   "id": "37fc015f-37b3-4d4f-9505-d2e031e64ff2",
   "metadata": {},
   "outputs": [],
   "source": []
  }
 ],
 "metadata": {
  "kernelspec": {
   "display_name": "classifier",
   "language": "python",
   "name": "signal-classifier"
  },
  "language_info": {
   "codemirror_mode": {
    "name": "ipython",
    "version": 3
   },
   "file_extension": ".py",
   "mimetype": "text/x-python",
   "name": "python",
   "nbconvert_exporter": "python",
   "pygments_lexer": "ipython3",
   "version": "3.8.20"
  }
 },
 "nbformat": 4,
 "nbformat_minor": 5
}

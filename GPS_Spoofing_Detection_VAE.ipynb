{
 "cells": [
  {
   "cell_type": "markdown",
   "metadata": {},
   "source": [
    "# GPS Spoofing Detection Using Convolutional VAE"
   ],
   "id": "a7a9d6d1b2cc5fe0"
  },
  {
   "cell_type": "markdown",
   "metadata": {},
   "source": [
    "## 1. Load and Preprocess Data"
   ],
   "id": "7160de79df4f5ec6"
  },
  {
   "cell_type": "code",
   "execution_count": null,
   "metadata": {},
   "outputs": [],
   "source": [
    "import numpy as np\n",
    "\n",
    "def create_windows(data_array, window_size=100, step=25):\n",
    "    windows = []\n",
    "    for start in range(0, data_array.shape[0] - window_size + 1, step):\n",
    "        windows.append(data_array[start : start + window_size])\n",
    "    return np.array(windows)\n",
    "\n",
    "# Load training data (should be .npy files extracted from DS-GS and DS-GD)\n",
    "real_data_gs = np.load('real_data_gs.npy')\n",
    "real_data_gd = np.load('real_data_gd.npy')\n",
    "\n",
    "train_windows = np.concatenate([\n",
    "    create_windows(real_data_gs),\n",
    "    create_windows(real_data_gd)\n",
    "], axis=0)\n",
    "\n",
    "print(\"Train window shape:\", train_windows.shape)"
   ],
   "id": "276e20412ae809b5"
  },
  {
   "cell_type": "markdown",
   "metadata": {},
   "source": [
    "## 2. Convert to PyTorch Dataset"
   ],
   "id": "8bb9a262a4596397"
  },
  {
   "cell_type": "code",
   "execution_count": null,
   "metadata": {},
   "outputs": [],
   "source": [
    "import torch\n",
    "from torch.utils.data import DataLoader, TensorDataset\n",
    "\n",
    "# Convert numpy array to PyTorch tensor and adjust shape for Conv1d: [batch, channels, sequence_length]\n",
    "train_tensor = torch.tensor(train_windows, dtype=torch.float32).permute(0, 2, 1)\n",
    "\n",
    "# Wrap into TensorDataset and DataLoader\n",
    "train_dataset = TensorDataset(train_tensor)\n",
    "train_loader = DataLoader(train_dataset, batch_size=64, shuffle=True)"
   ],
   "id": "ff64d769503adabc"
  },
  {
   "cell_type": "markdown",
   "metadata": {},
   "source": [
    "## 3. Define the 1D Convolutional VAE"
   ],
   "id": "cd6984eb57c3bf22"
  },
  {
   "cell_type": "code",
   "execution_count": null,
   "metadata": {},
   "outputs": [],
   "source": [
    "import torch\n",
    "import torch.nn as nn\n",
    "\n",
    "class ConvVAE(nn.Module):\n",
    "    def __init__(self, latent_dim=20):\n",
    "        super(ConvVAE, self).__init__()\n",
    "        self.enc_conv1 = nn.Conv1d(7, 16, kernel_size=3, stride=2, padding=1)\n",
    "        self.enc_conv2 = nn.Conv1d(16, 32, kernel_size=3, stride=2, padding=1)\n",
    "        self.flatten_dim = 32 * 25  # 输入长度100 -> 50 -> 25\n",
    "        self.fc_mu = nn.Linear(self.flatten_dim, latent_dim)\n",
    "        self.fc_logvar = nn.Linear(self.flatten_dim, latent_dim)\n",
    "\n",
    "        self.fc_decode = nn.Linear(latent_dim, self.flatten_dim)\n",
    "        self.dec_conv1 = nn.ConvTranspose1d(32, 16, kernel_size=3, stride=2, padding=1, output_padding=1)\n",
    "        self.dec_conv2 = nn.ConvTranspose1d(16, 7, kernel_size=3, stride=2, padding=1, output_padding=1)\n",
    "\n",
    "        self.relu = nn.ReLU()\n",
    "\n",
    "    def encode(self, x):\n",
    "        h = self.relu(self.enc_conv1(x))\n",
    "        h = self.relu(self.enc_conv2(h))\n",
    "        h_flat = h.view(h.size(0), -1)\n",
    "        return self.fc_mu(h_flat), self.fc_logvar(h_flat)\n",
    "\n",
    "    def reparameterize(self, mu, logvar):\n",
    "        std = torch.exp(0.5 * logvar)\n",
    "        return mu + torch.randn_like(std) * std\n",
    "\n",
    "    def decode(self, z):\n",
    "        h = self.relu(self.fc_decode(z)).view(-1, 32, 25)\n",
    "        h = self.relu(self.dec_conv1(h))\n",
    "        return self.dec_conv2(h)\n",
    "\n",
    "    def forward(self, x):\n",
    "        mu, logvar = self.encode(x)\n",
    "        z = self.reparameterize(mu, logvar)\n",
    "        return self.decode(z), mu, logvar\n",
    "\n",
    "# Instantiate model\n",
    "device = torch.device(\"cuda\" if torch.cuda.is_available() else \"cpu\")\n",
    "model = ConvVAE().to(device)\n"
   ],
   "id": "33aafe704c9a109d"
  },
  {
   "cell_type": "markdown",
   "metadata": {},
   "source": [
    "## 4. Train the VAE"
   ],
   "id": "c22af57bb148b3f1"
  },
  {
   "cell_type": "code",
   "execution_count": null,
   "metadata": {},
   "outputs": [],
   "source": [
    "import torch.optim as optim\n",
    "import torch.nn.functional as F\n",
    "\n",
    "optimizer = optim.Adam(model.parameters(), lr=1e-3)\n",
    "beta = 1.0\n",
    "num_epochs = 50\n",
    "\n",
    "for epoch in range(1, num_epochs + 1):\n",
    "    model.train()\n",
    "    total_loss = 0\n",
    "\n",
    "    for (x,) in train_loader:\n",
    "        x = x.to(device)\n",
    "        optimizer.zero_grad()\n",
    "        recon_x, mu, logvar = model(x)\n",
    "\n",
    "        # 重构损失\n",
    "        recon_loss = F.mse_loss(recon_x, x, reduction='mean')\n",
    "\n",
    "        # KL 散度损失\n",
    "        kl_loss = -0.5 * torch.mean(torch.sum(\n",
    "            1 + logvar - mu.pow(2) - logvar.exp(), dim=1))\n",
    "\n",
    "        # 总损失\n",
    "        loss = recon_loss + beta * kl_loss\n",
    "        loss.backward()\n",
    "        optimizer.step()\n",
    "\n",
    "        total_loss += loss.item() * x.size(0)\n",
    "\n",
    "    avg_loss = total_loss / len(train_loader.dataset)\n",
    "    print(f\"Epoch {epoch}: Loss = {avg_loss:.6f}\")\n"
   ],
   "id": "d948a16693172615"
  },
  {
   "cell_type": "markdown",
   "metadata": {},
   "source": [
    "## 5. Estimate Threshold ρ from Training Errors"
   ],
   "id": "d0030dd7147077ec"
  },
  {
   "cell_type": "code",
   "execution_count": null,
   "metadata": {},
   "outputs": [],
   "source": [
    "model.eval()\n",
    "errors = []\n",
    "\n",
    "with torch.no_grad():\n",
    "    for (x,) in train_loader:\n",
    "        x = x.to(device)\n",
    "        recon_x, _, _ = model(x)\n",
    "        # 对每个样本计算 MSE（逐样本平均）\n",
    "        err = F.mse_loss(recon_x, x, reduction='none').mean(dim=(1, 2)).cpu().numpy()\n",
    "        errors.extend(err)\n",
    "\n",
    "# 设置重构误差阈值 ρ 为训练误差的第99百分位\n",
    "import numpy as np\n",
    "rho = np.percentile(errors, 99)\n",
    "print(\"Reconstruction error threshold ρ =\", rho)"
   ],
   "id": "fef4ca4155c38efe"
  },
  {
   "cell_type": "markdown",
   "metadata": {},
   "source": [
    "## 6. Define Detection Function"
   ],
   "id": "3b8f78844de8f250"
  },
  {
   "cell_type": "code",
   "execution_count": null,
   "metadata": {},
   "outputs": [],
   "source": [
    "def detect_window(window_data):\n",
    "    \"\"\"\n",
    "    判断单个时间窗口是否为欺骗信号。\n",
    "    参数：\n",
    "        window_data: shape 为 [7, 100] 的 numpy 或 tensor，对应一个滑动窗口\n",
    "    返回：\n",
    "        (是否为欺骗信号: bool, 重构误差: float)\n",
    "    \"\"\"\n",
    "    x = torch.tensor(window_data, dtype=torch.float32).unsqueeze(0).to(device)  # 添加 batch 维度\n",
    "\n",
    "    with torch.no_grad():\n",
    "        recon, _, _ = model(x)\n",
    "        error = F.mse_loss(recon, x, reduction='mean').item()\n",
    "\n",
    "    return error > rho, error\n"
   ],
   "id": "24ef07a67ffe4839"
  }
 ],
 "metadata": {
  "kernelspec": {
   "display_name": "Python 3",
   "language": "python",
   "name": "python3"
  },
  "language_info": {
   "name": "python",
   "version": "3.8"
  }
 },
 "nbformat": 4,
 "nbformat_minor": 5
}
